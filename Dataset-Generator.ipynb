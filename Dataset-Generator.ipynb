{
 "cells": [
  {
   "cell_type": "code",
   "execution_count": 5,
   "metadata": {},
   "outputs": [],
   "source": [
    "import numpy as np\n",
    "import seaborn as sns\n",
    "import matplotlib.pyplot as plt\n",
    "from matplotlib.patches import Circle, Wedge, Polygon\n",
    "from matplotlib.pyplot import figure\n",
    "import random\n",
    "import math"
   ]
  },
  {
   "cell_type": "markdown",
   "metadata": {},
   "source": [
    "## Generate Disks / Circles"
   ]
  },
  {
   "cell_type": "code",
   "execution_count": 2,
   "metadata": {},
   "outputs": [],
   "source": [
    "def gen_circle(n, r, x_offset, y_offset, d_start, d_end, noise=True):\n",
    "    \"\"\"\n",
    "    arguments:\n",
    "        n: Number of points to generate\n",
    "        r: radius of circle\n",
    "        x: x-axis center of circle\n",
    "        y: y-axis center of circle\n",
    "    \"\"\"\n",
    "    X_1 = []\n",
    "    for i in range(n):\n",
    "        a = random.random() * 2 * math.pi\n",
    "        r_ = r * np.sqrt(random.uniform(d_start, d_end))\n",
    "\n",
    "        if noise:\n",
    "            x = r_ * np.cos(a) + np.random.normal(0,1) + x_offset\n",
    "            y = r_ * np.sin(a) + np.random.normal(0,1) + y_offset\n",
    "        else:\n",
    "            x = r_ * np.cos(a) + x_offset\n",
    "            y = r_ * np.sin(a) + y_offset\n",
    "\n",
    "        X_1.append((x,y))\n",
    "    X_1 = np.array(X_1)\n",
    "    Y_1 = [0] * len(X_1)\n",
    "    \n",
    "    return X_1"
   ]
  },
  {
   "cell_type": "code",
   "execution_count": 3,
   "metadata": {},
   "outputs": [],
   "source": [
    "n = 250\n",
    "r = 3\n",
    "x = 0\n",
    "y = 0\n",
    "\n",
    "data1 = gen_circle(n, r, x, y, .5 ,1 , False)\n",
    "data2 = gen_circle(n, 1.5, x, y, .5, 1, False)"
   ]
  },
  {
   "cell_type": "code",
   "execution_count": 4,
   "metadata": {},
   "outputs": [
    {
     "data": {
      "text/plain": [
       "<Figure size 720x720 with 0 Axes>"
      ]
     },
     "metadata": {},
     "output_type": "display_data"
    },
    {
     "data": {
      "image/png": "[encoded data removed]",
      "text/plain": [
       "<Figure size 432x288 with 1 Axes>"
      ]
     },
     "metadata": {
      "needs_background": "light"
     },
     "output_type": "display_data"
    }
   ],
   "source": [
    "#fig, ax = plt.subplots(aspect='equal') # note we must use plt.subplots, not plt.subplot\n",
    "figure(num=None, figsize=(6, 6), dpi=120, facecolor='w', edgecolor='k')\n",
    "fig2 = plt.figure()\n",
    "ax2 = fig2.add_subplot(111, aspect='equal')\n",
    "\n",
    "axis = { 'xmin' : -5, 'xmax' : 5, 'ymin' : -5, 'ymax' : 5 }\n",
    "\n",
    "#ax2.add_artist(Circle((x, y), r, color=(1,0,0,.7)))\n",
    "plt.axis(**axis)\n",
    "plt.scatter(data1[:, 0], data1[:, 1])\n",
    "plt.scatter(data2[:, 0], data2[:, 1])\n",
    "plt.show()"
   ]
  },
  {
   "cell_type": "markdown",
   "metadata": {},
   "source": [
    "## Generate Half Circles / Disks / Pies"
   ]
  },
  {
   "cell_type": "code",
   "execution_count": 24,
   "metadata": {},
   "outputs": [],
   "source": [
    "def gen_circle2(n, r, x_offset, y_offset, d_start, d_end, noise=True):\n",
    "    \"\"\"\n",
    "    Args:\n",
    "        n: Number of points to generate\n",
    "        r: radius of circle\n",
    "        x: x-axis center of circle\n",
    "        y: y-axis center of circle\n",
    "        \n",
    "    \"\"\"\n",
    "    X_1 = []\n",
    "    for i in range(n):\n",
    "        #a = random.random() * 2 * math.pi \n",
    "        a = random.uniform(0, .4) * 2 * math.pi \n",
    "        r_ = r * np.sqrt(random.uniform(d_start, d_end))\n",
    "\n",
    "        if noise:\n",
    "            x = r_ * np.cos(a) + np.random.normal(0,1) + x_offset\n",
    "            y = r_ * np.sin(a) + np.random.normal(0,1) + y_offset\n",
    "        else:\n",
    "            x = r_ * np.cos(a) + x_offset\n",
    "            y = r_ * np.sin(a) + y_offset\n",
    "\n",
    "        X_1.append((x,y))\n",
    "    X_1 = np.array(X_1)\n",
    "    \n",
    "    return X_1"
   ]
  },
  {
   "cell_type": "code",
   "execution_count": 93,
   "metadata": {},
   "outputs": [],
   "source": [
    "def gen_circle(n, x, y, radius, disk_start=0, circ_start=0, circ_end=1, noise=False):\n",
    "    \"\"\"\n",
    "    Generates points in within a specific disk.\n",
    "    \n",
    "    Args:\n",
    "        - n: Number of points to generate\n",
    "        - x: X-axis center of circle\n",
    "        - y: Y-axis center of circle\n",
    "        - radius:     Radius of circle\n",
    "        - disk_start: [0, 1] where to start center of circle\n",
    "        - circ_start: [0, 1] Start place of circle (Defaults 0 == 3PM).\n",
    "        - circ_end:   [0, 1] End place of circle (Defaults 1 == 3PM, wraps around counter clockwise).\n",
    "        - noise:      Add standard normal noise to data points\n",
    "    \"\"\"\n",
    "    data = []\n",
    "    for i in range(n):\n",
    "        arc = random.uniform(circ_start, circ_end) * 2 * math.pi\n",
    "        r = radius * np.sqrt(random.uniform(disk_start, 1))\n",
    "        \n",
    "        p_x = r * np.cos(arc) + x\n",
    "        p_y = r * np.sin(arc) + y\n",
    "        \n",
    "        if noise:\n",
    "            p_x += np.random.normal(0,1)\n",
    "            p_y += np.random.normal(0,1)\n",
    "            \n",
    "        data.append((p_x, p_y))\n",
    "    return data"
   ]
  },
  {
   "cell_type": "code",
   "execution_count": 118,
   "metadata": {},
   "outputs": [],
   "source": [
    "n = 250\n",
    "r = 3\n",
    "x = 0\n",
    "y = 0\n",
    "\n",
    "data1 = np.array(gen_circle(350, x, y, r, disk_start = .5, circ_start = 0 , circ_end = .6))\n",
    "data2 = np.array(gen_circle(n, x, y, 1.5, disk_start = .2, circ_start = 0 , circ_end = .6))"
   ]
  },
  {
   "cell_type": "code",
   "execution_count": 120,
   "metadata": {},
   "outputs": [],
   "source": [
    "def plot(data1, data2):\n",
    "    figure(num=None, figsize=(6, 6), dpi=120, facecolor='w', edgecolor='k')\n",
    "    fig2 = plt.figure()\n",
    "    ax2 = fig2.add_subplot(111, aspect='equal')\n",
    "\n",
    "\n",
    "\n",
    "    axis = { 'xmin' : -5, \n",
    "             'xmax' : 5, \n",
    "             'ymin' : -5, \n",
    "             'ymax' : 5\n",
    "           }\n",
    "\n",
    "    #ax2.add_artist(Circle((x, y), r, color=(1,0,0,.7)))\n",
    "    plt.axis(**axis)\n",
    "    plt.scatter(data1[:, 0], data1[:, 1])\n",
    "    plt.scatter(data2[:, 0], data2[:, 1])\n",
    "    plt.show()"
   ]
  },
  {
   "cell_type": "code",
   "execution_count": 121,
   "metadata": {},
   "outputs": [
    {
     "data": {
      "text/plain": [
       "<Figure size 720x720 with 0 Axes>"
      ]
     },
     "metadata": {},
     "output_type": "display_data"
    },
    {
     "data": {
      "image/png": "[encoded data removed]",
      "text/plain": [
       "<Figure size 432x288 with 1 Axes>"
      ]
     },
     "metadata": {
      "needs_background": "light"
     },
     "output_type": "display_data"
    }
   ],
   "source": [
    "plot(data1, data2)"
   ]
  },
  {
   "cell_type": "code",
   "execution_count": 128,
   "metadata": {},
   "outputs": [],
   "source": [
    "data3 = np.array(gen_circle(350, x, y, r, disk_start = .6, circ_start = 0 , circ_end = 1))\n",
    "data4 = np.array(gen_circle(n, x, y, 1.5, disk_start = .4, circ_start = 0 , circ_end = 1))"
   ]
  },
  {
   "cell_type": "code",
   "execution_count": 129,
   "metadata": {},
   "outputs": [
    {
     "data": {
      "text/plain": [
       "<Figure size 720x720 with 0 Axes>"
      ]
     },
     "metadata": {},
     "output_type": "display_data"
    },
    {
     "data": {
      "image/png": "[encoded data removed]",
      "text/plain": [
       "<Figure size 432x288 with 1 Axes>"
      ]
     },
     "metadata": {
      "needs_background": "light"
     },
     "output_type": "display_data"
    }
   ],
   "source": [
    "plot(data3, data4)"
   ]
  },
  {
   "cell_type": "code",
   "execution_count": 174,
   "metadata": {},
   "outputs": [],
   "source": [
    "data5 = np.array(gen_circle(400, x - 1, y, r, disk_start = .6, circ_start = -.02 , circ_end = .55))\n",
    "data6 = np.array(gen_circle(400, x + 1.5, y + 1.5, r, disk_start = .6, circ_start = .48 , circ_end = 1.02))"
   ]
  },
  {
   "cell_type": "code",
   "execution_count": 175,
   "metadata": {},
   "outputs": [
    {
     "data": {
      "text/plain": [
       "<Figure size 720x720 with 0 Axes>"
      ]
     },
     "metadata": {},
     "output_type": "display_data"
    },
    {
     "data": {
      "image/png": "[encoded data removed]",
      "text/plain": [
       "<Figure size 432x288 with 1 Axes>"
      ]
     },
     "metadata": {
      "needs_background": "light"
     },
     "output_type": "display_data"
    }
   ],
   "source": [
    "plot(data5, data6)"
   ]
  },
  {
   "cell_type": "code",
   "execution_count": 145,
   "metadata": {},
   "outputs": [],
   "source": [
    "data7 = np.array(gen_circle(350, x, y, r, disk_start = .6, circ_start = 0 , circ_end = .5))\n",
    "data8 = np.array(gen_circle(350, x + 2.5, y + 1.5, r, disk_start = .6, circ_start = .5 , circ_end = 1))"
   ]
  },
  {
   "cell_type": "code",
   "execution_count": 65,
   "metadata": {},
   "outputs": [],
   "source": [
    "# categorize local optima according to the labels on the training set\n",
    "\n",
    "# Now look at how the weights are sprepad out, present this nicely\n",
    "\n",
    "# smaller nad larger data"
   ]
  },
  {
   "cell_type": "markdown",
   "metadata": {},
   "source": [
    "## Train a neural network"
   ]
  },
  {
   "cell_type": "code",
   "execution_count": 178,
   "metadata": {},
   "outputs": [],
   "source": [
    "import torch as torch"
   ]
  },
  {
   "cell_type": "code",
   "execution_count": 179,
   "metadata": {},
   "outputs": [],
   "source": [
    "d, H = 2, 8\n",
    "model = torch.nn.Sequential(\n",
    "torch.nn.Linear(d, H),\n",
    "torch.nn.ReLU(),\n",
    "torch.nn.Linear(H, 1),\n",
    "torch.nn.Sigmoid())\n",
    "lossfn = torch.nn.BCELoss()"
   ]
  },
  {
   "cell_type": "code",
   "execution_count": 184,
   "metadata": {},
   "outputs": [
    {
     "ename": "TypeError",
     "evalue": "only size-1 arrays can be converted to Python scalars",
     "output_type": "error",
     "traceback": [
      "\u001b[0;31m---------------------------------------------------------------------------\u001b[0m",
      "\u001b[0;31mTypeError\u001b[0m                                 Traceback (most recent call last)",
      "\u001b[0;32m<ipython-input-184-e633ead769a4>\u001b[0m in \u001b[0;36m<module>\u001b[0;34m\u001b[0m\n\u001b[0;32m----> 1\u001b[0;31m \u001b[0mypred\u001b[0m \u001b[0;34m=\u001b[0m \u001b[0mmodel\u001b[0m\u001b[0;34m(\u001b[0m\u001b[0mnp\u001b[0m\u001b[0;34m.\u001b[0m\u001b[0mstack\u001b[0m\u001b[0;34m(\u001b[0m\u001b[0mdata1\u001b[0m\u001b[0;34m,\u001b[0m\u001b[0mdata2\u001b[0m\u001b[0;34m)\u001b[0m\u001b[0;34m)\u001b[0m\u001b[0;34m\u001b[0m\u001b[0;34m\u001b[0m\u001b[0m\n\u001b[0m\u001b[1;32m      2\u001b[0m \u001b[0mloss\u001b[0m \u001b[0;34m=\u001b[0m \u001b[0mlossfn\u001b[0m\u001b[0;34m(\u001b[0m\u001b[0mypred\u001b[0m\u001b[0;34m,\u001b[0m \u001b[0;34m[\u001b[0m\u001b[0;36m0\u001b[0m\u001b[0;34m]\u001b[0m\u001b[0;34m*\u001b[0m\u001b[0mlen\u001b[0m\u001b[0;34m(\u001b[0m\u001b[0mdata1\u001b[0m\u001b[0;34m)\u001b[0m \u001b[0;34m+\u001b[0m \u001b[0;34m[\u001b[0m\u001b[0;36m1\u001b[0m\u001b[0;34m]\u001b[0m\u001b[0;34m*\u001b[0m\u001b[0mlen\u001b[0m\u001b[0;34m(\u001b[0m\u001b[0mdata2\u001b[0m\u001b[0;34m)\u001b[0m\u001b[0;34m)\u001b[0m\u001b[0;34m\u001b[0m\u001b[0;34m\u001b[0m\u001b[0m\n\u001b[1;32m      3\u001b[0m \u001b[0mmodel\u001b[0m\u001b[0;34m.\u001b[0m\u001b[0mzero_grad\u001b[0m\u001b[0;34m(\u001b[0m\u001b[0;34m)\u001b[0m\u001b[0;34m\u001b[0m\u001b[0;34m\u001b[0m\u001b[0m\n\u001b[1;32m      4\u001b[0m \u001b[0mloss\u001b[0m\u001b[0;34m.\u001b[0m\u001b[0mbackward\u001b[0m\u001b[0;34m(\u001b[0m\u001b[0;34m)\u001b[0m\u001b[0;34m\u001b[0m\u001b[0;34m\u001b[0m\u001b[0m\n\u001b[1;32m      5\u001b[0m \u001b[0;32mwith\u001b[0m \u001b[0mtorch\u001b[0m\u001b[0;34m.\u001b[0m\u001b[0mno_grad\u001b[0m\u001b[0;34m(\u001b[0m\u001b[0;34m)\u001b[0m\u001b[0;34m:\u001b[0m\u001b[0;34m\u001b[0m\u001b[0;34m\u001b[0m\u001b[0m\n",
      "\u001b[0;32m/anaconda3/envs/py3-env/lib/python3.7/site-packages/numpy/core/shape_base.py\u001b[0m in \u001b[0;36mstack\u001b[0;34m(arrays, axis, out)\u001b[0m\n\u001b[1;32m    417\u001b[0m \u001b[0;34m\u001b[0m\u001b[0m\n\u001b[1;32m    418\u001b[0m     \u001b[0mresult_ndim\u001b[0m \u001b[0;34m=\u001b[0m \u001b[0marrays\u001b[0m\u001b[0;34m[\u001b[0m\u001b[0;36m0\u001b[0m\u001b[0;34m]\u001b[0m\u001b[0;34m.\u001b[0m\u001b[0mndim\u001b[0m \u001b[0;34m+\u001b[0m \u001b[0;36m1\u001b[0m\u001b[0;34m\u001b[0m\u001b[0;34m\u001b[0m\u001b[0m\n\u001b[0;32m--> 419\u001b[0;31m     \u001b[0maxis\u001b[0m \u001b[0;34m=\u001b[0m \u001b[0mnormalize_axis_index\u001b[0m\u001b[0;34m(\u001b[0m\u001b[0maxis\u001b[0m\u001b[0;34m,\u001b[0m \u001b[0mresult_ndim\u001b[0m\u001b[0;34m)\u001b[0m\u001b[0;34m\u001b[0m\u001b[0;34m\u001b[0m\u001b[0m\n\u001b[0m\u001b[1;32m    420\u001b[0m \u001b[0;34m\u001b[0m\u001b[0m\n\u001b[1;32m    421\u001b[0m     \u001b[0msl\u001b[0m \u001b[0;34m=\u001b[0m \u001b[0;34m(\u001b[0m\u001b[0mslice\u001b[0m\u001b[0;34m(\u001b[0m\u001b[0;32mNone\u001b[0m\u001b[0;34m)\u001b[0m\u001b[0;34m,\u001b[0m\u001b[0;34m)\u001b[0m \u001b[0;34m*\u001b[0m \u001b[0maxis\u001b[0m \u001b[0;34m+\u001b[0m \u001b[0;34m(\u001b[0m\u001b[0m_nx\u001b[0m\u001b[0;34m.\u001b[0m\u001b[0mnewaxis\u001b[0m\u001b[0;34m,\u001b[0m\u001b[0;34m)\u001b[0m\u001b[0;34m\u001b[0m\u001b[0;34m\u001b[0m\u001b[0m\n",
      "\u001b[0;31mTypeError\u001b[0m: only size-1 arrays can be converted to Python scalars"
     ]
    }
   ],
   "source": [
    "ypred = model(np.stack(data1,data2))\n",
    "loss = lossfn(ypred, [0]*len(data1) + [1]*len(data2))\n",
    "model.zero_grad()\n",
    "loss.backward()\n",
    "with torch.no_grad():\n",
    "    for param in model.parameters():\n",
    "        param -= eta * param.grad"
   ]
  },
  {
   "cell_type": "code",
   "execution_count": 190,
   "metadata": {},
   "outputs": [
    {
     "ename": "TypeError",
     "evalue": "stack() got multiple values for argument 'axis'",
     "output_type": "error",
     "traceback": [
      "\u001b[0;31m---------------------------------------------------------------------------\u001b[0m",
      "\u001b[0;31mTypeError\u001b[0m                                 Traceback (most recent call last)",
      "\u001b[0;32m<ipython-input-190-0b9a8ea1aba3>\u001b[0m in \u001b[0;36m<module>\u001b[0;34m\u001b[0m\n\u001b[0;32m----> 1\u001b[0;31m \u001b[0mnp\u001b[0m\u001b[0;34m.\u001b[0m\u001b[0mstack\u001b[0m\u001b[0;34m(\u001b[0m\u001b[0mnp\u001b[0m\u001b[0;34m.\u001b[0m\u001b[0marray\u001b[0m\u001b[0;34m(\u001b[0m\u001b[0mdata1\u001b[0m\u001b[0;34m)\u001b[0m\u001b[0;34m,\u001b[0m\u001b[0mnp\u001b[0m\u001b[0;34m.\u001b[0m\u001b[0marray\u001b[0m\u001b[0;34m(\u001b[0m\u001b[0mdata2\u001b[0m\u001b[0;34m)\u001b[0m\u001b[0;34m,\u001b[0m \u001b[0maxis\u001b[0m\u001b[0;34m=\u001b[0m\u001b[0;36m1\u001b[0m\u001b[0;34m)\u001b[0m\u001b[0;34m\u001b[0m\u001b[0;34m\u001b[0m\u001b[0m\n\u001b[0m",
      "\u001b[0;31mTypeError\u001b[0m: stack() got multiple values for argument 'axis'"
     ]
    }
   ],
   "source": [
    "np.stack(np.array(data1),np.array(data2), axis=1)"
   ]
  }
 ],
 "metadata": {
  "kernelspec": {
   "display_name": "py3-env",
   "language": "python",
   "name": "py3-env"
  },
  "language_info": {
   "codemirror_mode": {
    "name": "ipython",
    "version": 3
   },
   "file_extension": ".py",
   "mimetype": "text/x-python",
   "name": "python",
   "nbconvert_exporter": "python",
   "pygments_lexer": "ipython3",
   "version": "3.7.2"
  }
 },
 "nbformat": 4,
 "nbformat_minor": 2
}
